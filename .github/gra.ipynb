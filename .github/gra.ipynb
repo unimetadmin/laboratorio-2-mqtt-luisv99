{
 "metadata": {
  "language_info": {
   "codemirror_mode": {
    "name": "ipython",
    "version": 3
   },
   "file_extension": ".py",
   "mimetype": "text/x-python",
   "name": "python",
   "nbconvert_exporter": "python",
   "pygments_lexer": "ipython3",
   "version": "3.8.5"
  },
  "orig_nbformat": 2,
  "kernelspec": {
   "name": "python385jvsc74a57bd0ba9a29de9d76561c866d62eccc8d574ab9e7fa0d5a1b3de1bb3d2045bad87f75",
   "display_name": "Python 3.8.5 64-bit"
  }
 },
 "nbformat": 4,
 "nbformat_minor": 2,
 "cells": [
  {
   "cell_type": "code",
   "execution_count": 12,
   "metadata": {},
   "outputs": [],
   "source": [
    "from jupyter_dash import JupyterDash\n",
    "import dash_core_components as dcc\n",
    "import dash_html_components as html\n",
    "from dash.dependencies import (Input, Output)\n",
    "import plotly.graph_objs as go\n",
    "\n",
    "import pandas as pd\n",
    "import time\n",
    "import random\n",
    "from csv import writer\n",
    "import os"
   ]
  },
  {
   "cell_type": "code",
   "execution_count": 13,
   "metadata": {},
   "outputs": [],
   "source": [
    "app = JupyterDash(__name__)"
   ]
  },
  {
   "cell_type": "code",
   "execution_count": 14,
   "metadata": {},
   "outputs": [],
   "source": [
    "app.layout = html.Div([\n",
    "    dcc.Graph(id='demo-live'),\n",
    "    ## for every 2 secs the layout updates\n",
    "    dcc.Interval(id='output-update', interval=2*1000)\n",
    "])"
   ]
  },
  {
   "cell_type": "code",
   "execution_count": 15,
   "metadata": {},
   "outputs": [],
   "source": [
    "def generate_streaming_data():\n",
    "    rand_vals = [random.randint(20, 50), random.randint(20, 50)]\n",
    "    \n",
    "    file_name = 'simple_demo.csv'\n",
    "    if os.path.exists(path=file_name):\n",
    "        pass\n",
    "    else:\n",
    "        with open(file_name, 'w') as wo:\n",
    "            csv_writer = writer(wo)\n",
    "            csv_writer.writerow(['col1', 'col2'])\n",
    "    \n",
    "    with open(file_name, 'a+', newline='\\n') as wo:\n",
    "        csv_writer = writer(wo)\n",
    "        csv_writer.writerow(rand_vals)\n",
    "    return None"
   ]
  },
  {
   "cell_type": "code",
   "execution_count": 16,
   "metadata": {},
   "outputs": [],
   "source": [
    "@app.callback(\n",
    "    Output(component_id='demo-live', component_property='figure'),\n",
    "    [Input(component_id='output-update', component_property='n_intervals')]\n",
    ")\n",
    "def get_live_updates(n_intervals):\n",
    "    generate_streaming_data()\n",
    "    time.sleep(1)\n",
    "    df = pd.read_csv('simple_demo.csv')\n",
    "    x = sorted(df['col1'].to_list())\n",
    "    y = sorted(df['col2'].to_list())\n",
    "    data = go.Scatter(\n",
    "        x=x, y=y, mode='lines+markers'\n",
    "    )\n",
    "    layout = go.Layout(\n",
    "        autosize=False,\n",
    "        width=780,\n",
    "        height=500,\n",
    "        margin=dict(l=20, r=20, t=20, b=20),\n",
    "        paper_bgcolor=\"LightSteelBlue\",\n",
    "        plot_bgcolor='#ebf3fc'\n",
    "    )\n",
    "    fig = {'data' : [data], 'layout' : layout}\n",
    "    return fig"
   ]
  },
  {
   "cell_type": "code",
   "execution_count": 17,
   "metadata": {},
   "outputs": [
    {
     "output_type": "display_data",
     "data": {
      "text/plain": "<IPython.lib.display.IFrame at 0x27bab1cc700>",
      "text/html": "\n        <iframe\n            width=\"100%\"\n            height=\"650\"\n            src=\"http://127.0.0.1:8050/\"\n            frameborder=\"0\"\n            allowfullscreen\n        ></iframe>\n        "
     },
     "metadata": {}
    }
   ],
   "source": [
    "app.run_server(mode='inline')"
   ]
  },
  {
   "cell_type": "code",
   "execution_count": null,
   "metadata": {},
   "outputs": [],
   "source": []
  }
 ]
}